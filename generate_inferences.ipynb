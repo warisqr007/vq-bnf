{
 "cells": [
  {
   "cell_type": "code",
   "execution_count": 1,
   "metadata": {},
   "outputs": [
    {
     "name": "stdout",
     "output_type": "stream",
     "text": [
      "env: CUDA_VISIBLE_DEVICES=3\n"
     ]
    }
   ],
   "source": [
    "%env CUDA_VISIBLE_DEVICES=3"
   ]
  },
  {
   "cell_type": "code",
   "execution_count": 2,
   "metadata": {},
   "outputs": [],
   "source": [
    "from pathlib import Path\n",
    "from utils.load_yaml import HpsYaml\n",
    "import torch\n",
    "import numpy as np\n",
    "from src import build_model\n",
    "import os\n",
    "from tqdm import tqdm\n",
    "from data_objects.kaldi_interface import KaldiInterface"
   ]
  },
  {
   "cell_type": "code",
   "execution_count": 3,
   "metadata": {},
   "outputs": [],
   "source": [
    "def build_vq_model(model_config, model_file, device):\n",
    "    model_class = build_model(model_config[\"model_name\"])\n",
    "    bnf2code_model = model_class(\n",
    "        model_config[\"model\"]\n",
    "    ).to(device)\n",
    "    ckpt = torch.load(model_file, map_location=device)\n",
    "    bnf2code_model.load_state_dict(ckpt[\"model\"])\n",
    "    bnf2code_model.eval()\n",
    "    return bnf2code_model\n",
    "\n",
    "def get_bnfs(spk_id, utterance_id, kaldi_dir):\n",
    "    ki = KaldiInterface(wav_scp=str(os.path.join(kaldi_dir, 'wav.scp')),\n",
    "                        bnf_scp=str(os.path.join(kaldi_dir, 'bnf/feats.scp')))\n",
    "    bnf = ki.get_feature('_'.join([spk_id, utterance_id]), 'bnf')\n",
    "    return bnf"
   ]
  },
  {
   "cell_type": "code",
   "execution_count": 4,
   "metadata": {},
   "outputs": [
    {
     "name": "stdout",
     "output_type": "stream",
     "text": [
      "Load VQ-model...\n"
     ]
    }
   ],
   "source": [
    "# Build models\n",
    "print(\"Load VQ-model...\")\n",
    "device = 'cuda'\n",
    "\n",
    "vq_train_config = Path('/path/to/conf/vq_128.yaml')\n",
    "bnf2code_config = HpsYaml(vq_train_config) \n",
    "bnf2code_model_file = Path('/path/to/ckpt/vq128/loss_step_100000.pth')\n",
    "\n",
    "bnf2code_model = build_vq_model(bnf2code_config, bnf2code_model_file, device)"
   ]
  },
  {
   "cell_type": "code",
   "execution_count": 5,
   "metadata": {},
   "outputs": [],
   "source": [
    "@torch.no_grad()\n",
    "def translate2code(bnf_fpath):\n",
    "    bnf = np.load(bnf_fpath)\n",
    "    bnf = torch.from_numpy(bnf).unsqueeze(0).to(device)\n",
    "\n",
    "    bnf_qn, indices = bnf2code_model.inference(torch.squeeze(bnf))\n",
    "    \n",
    "    return bnf_qn.cpu().numpy(), indices.cpu().numpy()\n"
   ]
  },
  {
   "cell_type": "code",
   "execution_count": 6,
   "metadata": {},
   "outputs": [
    {
     "name": "stderr",
     "output_type": "stream",
     "text": [
      "100%|██████████| 25745/25745 [00:43<00:00, 589.17it/s]\n"
     ]
    }
   ],
   "source": [
    "base_bnf_fpath = '/path/to/ppgs'\n",
    "output_dir = '/path/to/output/vq128'\n",
    "\n",
    "root, _ , files = next(os.walk(base_bnf_fpath))\n",
    "for file in tqdm(files):\n",
    "    bnf_qn, indices = translate2code(os.path.join(root, file))\n",
    "\n",
    "    os.makedirs(f\"{output_dir}/ppgs\", exist_ok=True)\n",
    "    bnf_fname = f\"{output_dir}/ppgs/{file}\"\n",
    "    np.save(bnf_fname, bnf_qn, allow_pickle=False)\n",
    "\n",
    "    os.makedirs(f\"{output_dir}/indices\", exist_ok=True)\n",
    "    ind_fname = f\"{output_dir}/indices/{file}\"\n",
    "    np.save(ind_fname, indices, allow_pickle=False)"
   ]
  }
 ],
 "metadata": {
  "kernelspec": {
   "display_name": "transformer",
   "language": "python",
   "name": "python3"
  },
  "language_info": {
   "codemirror_mode": {
    "name": "ipython",
    "version": 3
   },
   "file_extension": ".py",
   "mimetype": "text/x-python",
   "name": "python",
   "nbconvert_exporter": "python",
   "pygments_lexer": "ipython3",
   "version": "3.8.12"
  },
  "orig_nbformat": 4,
  "vscode": {
   "interpreter": {
    "hash": "d77718d5a62f7cd3ca9f776720549c002798c1dd777036252f1ac346e8dce97b"
   }
  }
 },
 "nbformat": 4,
 "nbformat_minor": 2
}
